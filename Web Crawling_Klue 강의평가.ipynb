{
 "cells": [
  {
   "cell_type": "code",
   "execution_count": 1,
   "metadata": {},
   "outputs": [
    {
     "name": "stdout",
     "output_type": "stream",
     "text": [
      "Requirement already satisfied: selenium in c:\\users\\82107\\anaconda3\\lib\\site-packages (3.141.0)\n",
      "Requirement already satisfied: urllib3 in c:\\users\\82107\\anaconda3\\lib\\site-packages (from selenium) (1.24.1)\n",
      "Requirement already satisfied: bs4 in c:\\users\\82107\\anaconda3\\lib\\site-packages (0.0.1)\n",
      "Requirement already satisfied: beautifulsoup4 in c:\\users\\82107\\anaconda3\\lib\\site-packages (from bs4) (4.6.3)\n"
     ]
    }
   ],
   "source": [
    "# Selenium 사용\n",
    "! pip install selenium\n",
    "\n",
    "# BeautifulSoup 가져오기\n",
    "! pip install bs4\n",
    "from bs4 import BeautifulSoup\n",
    "\n",
    "# \n",
    "from selenium import webdriver\n",
    "from selenium.webdriver.common.keys import Keys # 스크롤\n",
    "import csv\n",
    "import time\n",
    "import codecs\n",
    "import nltk, re"
   ]
  },
  {
   "cell_type": "code",
   "execution_count": 2,
   "metadata": {},
   "outputs": [],
   "source": [
    "# find_element_by_name을 통해 아이디/비밀번호 input 태그를 잡아주고, 값을 입력하기\n",
    "\n",
    "driver = webdriver.Chrome('/Users/82107/Desktop/Selenium/chromedriver')\n",
    "driver.get('https://klue.kr')\n",
    "\n",
    "# Klue 로그인 버튼 누르기\n",
    "driver.find_element_by_xpath('/html/body/app-root/menubar/div/ul/menubar-guest/span[2]').click()\n",
    "\n",
    "## 아이디/비밀번호를 입력해준다.\n",
    "driver.find_element_by_xpath('/html/body/app-root/app-modal/div/div/div/modal-contents/div/modal-login/input[1]').send_keys('alsgudjoo')\n",
    "driver.find_element_by_xpath('/html/body/app-root/app-modal/div/div/div/modal-contents/div/modal-login/input[2]').send_keys('alsgud12')\n",
    "\n",
    "# 로그인 버튼 누르기\n",
    "driver.find_element_by_xpath('/html/body/app-root/app-modal/div/div/div/modal-contents/div/modal-login/button').click()\n",
    "\n",
    "# x_path를 copy한 담에 paste하기만 해주면 된다. "
   ]
  },
  {
   "cell_type": "code",
   "execution_count": 3,
   "metadata": {},
   "outputs": [],
   "source": [
    "# 엑셀 파일 만들기\n",
    "with open('클루 강의 평가(1).csv','w', encoding= 'utf-8', newline= '') as employee_file :\n",
    "    employee_writer = csv.writer(employee_file)\n",
    "    employee_writer.writerow(['Number','Class','Classification','Time','Credit','Semester', 'Code', 'Professor', 'Comment', 'Stars', 'Overall'])\n",
    " \n",
    "    klue_site = []\n",
    "\n",
    "    for a in range(2) :\n",
    "        raw = 'https://klue.kr/lecture/{}'.format(a)\n",
    "        klue_site.append(raw)\n",
    "\n",
    "    b = klue_site\n",
    "    \n",
    "    for a in b :\n",
    "        driver.get(a)\n",
    "        \n",
    "        try :\n",
    "            # Alert 창 대응하기\n",
    "            driver.switch_to.alert.accept()\n",
    "            driver.switch_to.alert.accept()\n",
    "        \n",
    "        except :\n",
    "        \n",
    "            # 스크롤하기\n",
    "            SCROLL_PAUSE_TIME = 0.5\n",
    "\n",
    "            # Get scroll height\n",
    "            last_height = driver.execute_script(\"return document.body.scrollHeight\")\n",
    "\n",
    "            while True:\n",
    "                # Scroll down to bottom\n",
    "                driver.execute_script(\"window.scrollTo(0, document.body.scrollHeight);\")\n",
    "\n",
    "                # Wait to load page\n",
    "                time.sleep(SCROLL_PAUSE_TIME)\n",
    "\n",
    "                # Calculate new scroll height and compare with last scroll height\n",
    "                new_height = driver.execute_script(\"return document.body.scrollHeight\")\n",
    "                if new_height == last_height:\n",
    "                    break\n",
    "                last_height = new_height\n",
    "    \n",
    "            html = driver.page_source\n",
    "            klue = BeautifulSoup(html, 'html.parser')\n",
    "            klue_td = klue.findAll('td')\n",
    "    \n",
    "            Number = a.replace(\"https://klue.kr/lecture/\",\"\")\n",
    "            Class = klue.find(class_= 'lecture-index-main-title').get_text()\n",
    "            Classification = klue_td[2].get_text()\n",
    "            Time = klue_td[3].get_text()\n",
    "            Credit = klue_td[4].get_text()\n",
    "            Semester = klue.find('td').get_text()\n",
    "            Code = klue_td[1].get_text()\n",
    "            Professor = klue.find(class_= 'lecture-title-professor').get_text()\n",
    "            Overall = klue.find(class_= 'lecture-main-rate-point').get_text()\n",
    "            klue_Stars_Comment = klue.findAll(class_='lecture-eval-content')\n",
    "            for i in klue_Stars_Comment :\n",
    "                klue_Comment = i.find(class_='lecture-eval-content-context').get_text()\n",
    "                Comment = klue_Comment.replace('\\n','')\n",
    "                klue_stars = re.findall(\"width\\:\\s(\\d+)px\", str(i))[0]\n",
    "                Stars = int(klue_stars)/26\n",
    "                employee_writer.writerow([Number, Class, Classification, Time, Credit, Semester, Code, Professor, Comment, Stars, Overall])"
   ]
  },
  {
   "cell_type": "code",
   "execution_count": null,
   "metadata": {},
   "outputs": [],
   "source": []
  }
 ],
 "metadata": {
  "kernelspec": {
   "display_name": "Python 3",
   "language": "python",
   "name": "python3"
  },
  "language_info": {
   "codemirror_mode": {
    "name": "ipython",
    "version": 3
   },
   "file_extension": ".py",
   "mimetype": "text/x-python",
   "name": "python",
   "nbconvert_exporter": "python",
   "pygments_lexer": "ipython3",
   "version": "3.7.1"
  }
 },
 "nbformat": 4,
 "nbformat_minor": 2
}
